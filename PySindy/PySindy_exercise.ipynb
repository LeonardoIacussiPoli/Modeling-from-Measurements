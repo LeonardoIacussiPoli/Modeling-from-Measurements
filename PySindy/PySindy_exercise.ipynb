{
 "cells": [
  {
   "cell_type": "markdown",
   "metadata": {},
   "source": [
    "# PySindy"
   ]
  },
  {
   "cell_type": "code",
   "execution_count": null,
   "metadata": {},
   "outputs": [],
   "source": [
    "import matplotlib.pyplot as plt\n",
    "from mpl_toolkits.mplot3d import Axes3D\n",
    "import numpy as np\n",
    "from scipy.integrate import solve_ivp\n",
    "from sklearn.metrics import mean_squared_error\n",
    "\n",
    "# Ignore integration and solver convergence warnings\n",
    "import warnings\n",
    "from scipy.integrate.odepack import ODEintWarning\n",
    "warnings.simplefilter(\"ignore\", category=UserWarning)\n",
    "warnings.simplefilter(\"ignore\", category=ODEintWarning)\n",
    "import pysindy as ps\n",
    "from tqdm import tqdm\n",
    "from support_functions import *\n",
    "from scipy import signal\n",
    "import matplotlib"
   ]
  },
  {
   "cell_type": "markdown",
   "metadata": {},
   "source": [
    "## Load dataset\n",
    "\n",
    "It generates the database concernig the evolution over time of Snowshoe Hare and Canadian lynx "
   ]
  },
  {
   "cell_type": "code",
   "execution_count": null,
   "metadata": {},
   "outputs": [],
   "source": [
    "X,t,dt = generate_populations_dataset()\n",
    "t = np.arange(0,60,dt)"
   ]
  },
  {
   "cell_type": "code",
   "execution_count": null,
   "metadata": {},
   "outputs": [],
   "source": [
    "dt_new = 0.1\n",
    "t_new = np.arange(t[0],t[-1],dt_new)\n",
    "X_new = interpolation(t ,X, t_new)\n",
    "print(len(t_new))\n",
    "t = t_new\n",
    "X = X_new\n",
    "dt = dt_new\n",
    "\n",
    "plt.figure()\n",
    "plt.plot(t,X[:,0])\n",
    "plt.plot(t,X[:,1])\n",
    "plt.grid()\n"
   ]
  },
  {
   "cell_type": "markdown",
   "metadata": {},
   "source": [
    "<br>\n",
    "<br>\n",
    "<br>\n",
    "<br>\n",
    "<br>\n",
    "<br>\n",
    "\n",
    "## Fit Sindy Model \n",
    "\n"
   ]
  },
  {
   "cell_type": "code",
   "execution_count": null,
   "metadata": {},
   "outputs": [],
   "source": [
    "# SINDY model fitting\n",
    "feature_names = ['x', 'y']\n",
    "threshold = 1e-20\n",
    "alpha = 0\n",
    "n_models = 500\n",
    "subset_size = X.shape[0] - int(X.shape[0] * 0.10)\n",
    "max_iter = 1000\n",
    "ensemble_optimizer = ps.SR3(threshold = threshold ,max_iter= max_iter)\n",
    "model = ps.SINDy(feature_names=feature_names, optimizer=ensemble_optimizer, feature_library=ps.PolynomialLibrary(6,library_ensemble=True))\n",
    "model.fit(X, t=dt, ensemble=True, n_models=n_models, n_subset=subset_size, quiet=False, n_candidates_to_drop=4)\n",
    "\n",
    "model.print()\n",
    "\n",
    "ensemble_coefs = np.asarray(model.coef_list)\n",
    "mean_ensemble_coefs = np.mean(ensemble_coefs, axis=0)\n",
    "median_ensemble_coefs = np.median(ensemble_coefs, axis=0)"
   ]
  },
  {
   "cell_type": "code",
   "execution_count": null,
   "metadata": {},
   "outputs": [],
   "source": [
    "# set initial conditons\n",
    "x0_test = X[0,:]\n",
    "\n",
    "# set integrator: solve_ivp , odeint\n",
    "integrator = 'solve_ivp'\n",
    "\n",
    "# set integration  parameters\n",
    "integrator_kws = {}\n",
    "\n",
    "# Only for solve_ivp\n",
    "# RK45 , RK23 , DOP853 , Radau , BDF , LSODA\n",
    "if integrator == 'solve_ivp':\n",
    "    integrator_kws['method'] = 'RK45'\n",
    "    #integrator_kws['max_step'] = 1e20\n",
    "    #integrator_kws['min_step'] = 1e15\n",
    "else:\n",
    "    print()\n",
    "    #mxstep = 1e20\n",
    "    #integrator_kws['hmax'] = 10\n",
    "    #integrator_kws['hmin'] = 10\n",
    "    \n",
    "integrator_kws['rtol'] = 1e-8\n",
    "integrator_kws['atol'] = 1e-8\n",
    "\n",
    "dt_test = 1e-3\n",
    "t_test = np.arange(0,58,dt_test)\n",
    "\n",
    "# function to zero out any short-term unstable models \n",
    "stable_ensemble_coefs , stable_list = integration_metric(model,x0_test,t_test,np.asarray(ensemble_coefs), ensemble_optimizer,integrator,integrator_kws)"
   ]
  },
  {
   "cell_type": "code",
   "execution_count": null,
   "metadata": {},
   "outputs": [],
   "source": [
    "stable_ensemble_coefs_1 = stable_ensemble_coefs[stable_list]\n",
    "mean_ensemble_coefs = np.mean(stable_ensemble_coefs_1, axis=0)\n",
    "median_ensemble_coefs = np.median(stable_ensemble_coefs_1, axis=0)\n",
    "\n",
    "upper_limit_ensemble_coefs = np.percentile(stable_ensemble_coefs_1,0.5, axis=0)\n"
   ]
  },
  {
   "cell_type": "markdown",
   "metadata": {},
   "source": [
    "<br>\n",
    "<br>\n",
    "<br>\n",
    "<br>\n",
    "<br>\n",
    "<br>\n",
    "\n",
    "## Plot the results"
   ]
  },
  {
   "cell_type": "code",
   "execution_count": null,
   "metadata": {},
   "outputs": [],
   "source": [
    "x0_test =X[0,:]\n",
    "ensemble_optimizer.coef_ = mean_ensemble_coefs\n",
    "x_test_sim_meam_coeff = model.simulate(x0_test, t_test, integrator=integrator,integrator_kws = integrator_kws)\n"
   ]
  },
  {
   "cell_type": "code",
   "execution_count": null,
   "metadata": {},
   "outputs": [],
   "source": [
    "X,t,dt = generate_populations_dataset()\n",
    "t = np.arange(0,60,dt)\n",
    "\n",
    "font = {'family' : 'normal',\n",
    "        'size'   : 15}\n",
    "\n",
    "matplotlib.rc('font', **font)\n",
    "fig, ax = plt.subplots(2,1,figsize=(10,10))\n",
    "ax[0].set_title('Snowshoe hare')\n",
    "ax[0].plot(t+1845,X[:,0],'--b')\n",
    "ax[0].plot(t_test+1845, x_test_sim_meam_coeff[:,0], color=\"b\")\n",
    "ax[0].set_ylabel('n° of animals',fontsize=15)\n",
    "ax[0].legend(['Real data','SINDy'])\n",
    "ax[0].grid()\n",
    "ax[1].set_title('Canadian lynx')\n",
    "ax[1].plot(t+1845,X[:,1],'--r')\n",
    "ax[1].plot(t_test+1845, x_test_sim_meam_coeff[:,1], color=\"r\") \n",
    "ax[1].set_xlabel('year',fontsize=15)\n",
    "ax[1].set_ylabel('n° of animals',fontsize=15)\n",
    "ax[1].legend(['Real data','SINDy'])\n",
    "ax[1].grid()\n",
    "\n",
    "plt.show()"
   ]
  },
  {
   "cell_type": "code",
   "execution_count": null,
   "metadata": {},
   "outputs": [],
   "source": [
    "import matplotlib\n",
    "font = {'family' : 'normal',\n",
    "        'size'   : 15}\n",
    "\n",
    "matplotlib.rc('font', **font)\n",
    "\n",
    "fig, ax = plt.subplots(1,2,figsize=(20,5))\n",
    "ax[0].set_title('Snowshoe hare')\n",
    "ax[0].plot(t+1845,X[:,0],'--b')\n",
    "ax[0].plot(t_test+1845, x_test_sim_meam_coeff[:,0], color=\"b\")\n",
    "ax[0].set_ylabel('n° of animals',fontsize=15)\n",
    "ax[0].legend(['Real data','SINDy'])\n",
    "ax[0].set_xlabel('year',fontsize=15)\n",
    "ax[0].grid()\n",
    "ax[1].set_title('Canadian lynx')\n",
    "ax[1].plot(t+1845,X[:,1],'--r')\n",
    "ax[1].plot(t_test+1845, x_test_sim_meam_coeff[:,1], color=\"r\") \n",
    "ax[1].set_xlabel('year',fontsize=15)\n",
    "ax[1].set_ylabel('n° of animals',fontsize=15)\n",
    "ax[1].legend(['Real data','SINDy'])\n",
    "ax[1].grid()\n",
    "\n",
    "plt.show()"
   ]
  },
  {
   "cell_type": "code",
   "execution_count": null,
   "metadata": {},
   "outputs": [],
   "source": [
    "#downsampling\n",
    "resampled = np.zeros_like(X)\n",
    "resampled[:,0] = signal.resample(x_test_sim_meam_coeff[:,0],30)\n",
    "resampled[:,1] = signal.resample(x_test_sim_meam_coeff[:,1],30)\n",
    "\n",
    "font = {'family' : 'normal',\n",
    "        'size'   : 15}\n",
    "\n",
    "matplotlib.rc('font', **font)\n",
    "\n",
    "fig, ax = plt.subplots(1,2,figsize=(20,5))\n",
    "ax[0].set_title('Snowshoe hare')\n",
    "ax[0].plot(t+1845,abs(X[:,0]-resampled[:,0]),'--b')\n",
    "ax[0].set_ylabel('abs(real-predicted)',fontsize=15)\n",
    "ax[0].set_xlabel('year',fontsize=15)\n",
    "ax[0].grid()\n",
    "ax[1].set_title('Canadian lynx')\n",
    "ax[1].plot(t+1845,abs(X[:,1]-resampled[:,1]),'--r')\n",
    "ax[1].set_xlabel('year',fontsize=15)\n",
    "ax[1].set_ylabel('abs(real-predicted)',fontsize=15)\n",
    "ax[1].grid()\n",
    "\n",
    "plt.show()\n",
    "\n",
    "dist0 = np.linalg.norm(X[:,0]-resampled[:,0],2)\n",
    "dist1 = np.linalg.norm(X[:,1]-resampled[:,1],2)\n",
    "print('The L2 norm of the Snowshoe hare is:'+str(dist0))\n",
    "print('The L2 norm of the Canadian lynx is:'+str(dist1))\n"
   ]
  },
  {
   "cell_type": "code",
   "execution_count": null,
   "metadata": {},
   "outputs": [],
   "source": []
  }
 ],
 "metadata": {
  "kernelspec": {
   "display_name": "Python 3.7.13 ('tf_10')",
   "language": "python",
   "name": "python3"
  },
  "language_info": {
   "codemirror_mode": {
    "name": "ipython",
    "version": 3
   },
   "file_extension": ".py",
   "mimetype": "text/x-python",
   "name": "python",
   "nbconvert_exporter": "python",
   "pygments_lexer": "ipython3",
   "version": "3.7.13"
  },
  "orig_nbformat": 4,
  "vscode": {
   "interpreter": {
    "hash": "ed873b22348962a430f331f9cb30603d8627257eb4630710088ff612f374bb44"
   }
  }
 },
 "nbformat": 4,
 "nbformat_minor": 2
}
