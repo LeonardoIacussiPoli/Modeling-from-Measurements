{
  "cells": [
    {
      "cell_type": "markdown",
      "metadata": {
        "id": "vDMbah8ImsT8"
      },
      "source": [
        "# Lorenz"
      ]
    },
    {
      "cell_type": "code",
      "execution_count": null,
      "metadata": {
        "id": "Vs4F_pNLmt28"
      },
      "outputs": [],
      "source": [
        "import numpy as np\n",
        "import matplotlib.pyplot as plt\n",
        "from matplotlib import rcParams\n",
        "from scipy import integrate\n",
        "from mpl_toolkits.mplot3d import Axes3D\n",
        "import tensorflow as tf\n",
        "\n",
        "from sklearn.model_selection import train_test_split\n",
        "from tqdm import tqdm\n"
      ]
    },
    {
      "cell_type": "code",
      "execution_count": null,
      "metadata": {
        "id": "3MUZBEVrzHgw"
      },
      "outputs": [],
      "source": [
        "def prepare_dataset(rho):\n",
        "  nn_input = np.zeros((number_of_datasets*(len(t)-1),3))\n",
        "  nn_output = np.zeros_like(nn_input)\n",
        "\n",
        "  def lorenz_deriv(x_y_z, t0, sigma=sigma, beta=beta, rho=rho):\n",
        "    x, y, z = x_y_z\n",
        "    return [sigma * (y - x), x * (rho - z) - y, x * y - beta * z]\n",
        "\n",
        "# initial conditions\n",
        "  #x0 = -15 + 30 * 0.6 * np.ones((number_of_datasets, 3)) \n",
        "  x0 = np.random.random((number_of_datasets, 3))\n",
        "\n",
        "  x_t = np.asarray([integrate.odeint(lorenz_deriv, x0_j, t)\n",
        "                  for x0_j in x0])\n",
        "  \n",
        "  for j in range(number_of_datasets):\n",
        "    nn_input[j*(len(t)-1):(j+1)*(len(t)-1),:] = x_t[j,:-1,:]\n",
        "    nn_output[j*(len(t)-1):(j+1)*(len(t)-1),:] = x_t[j,1:,:]\n",
        "    x, y, z = x_t[j,:,:].T\n",
        "\n",
        "\n",
        "  return nn_input, nn_output\n"
      ]
    },
    {
      "cell_type": "markdown",
      "metadata": {},
      "source": [
        "<br>\n",
        "<br>\n",
        "<br>\n",
        "<br>\n",
        "<br>\n",
        "<br>\n",
        "<br>\n",
        "\n",
        "# Dataset generation"
      ]
    },
    {
      "cell_type": "code",
      "execution_count": null,
      "metadata": {
        "id": "AI1nceawmwlQ"
      },
      "outputs": [],
      "source": [
        "## Simulate the Lorenz System rho = 10, 28, 35\n",
        "np.random.seed(123)\n",
        "dt = 0.001\n",
        "T = 10\n",
        "t = np.arange(0, T+dt, dt)\n",
        "beta = 8/3\n",
        "sigma = 10\n",
        "number_of_datasets = 10\n",
        "\n",
        "rho = 10\n",
        "nn_in_10, nn_out_10 = prepare_dataset(rho)\n",
        "nn_in_10 = nn_in_10 \n",
        "nn_in_10 = np.concatenate((nn_in_10,np.ones((len(nn_in_10),1))*rho),axis=1)\n",
        "nn_out_10 = nn_out_10 \n",
        "\n",
        "rho = 28\n",
        "nn_in_28, nn_out_28 = prepare_dataset(rho)\n",
        "nn_in_28 = nn_in_28 \n",
        "nn_in_28 = np.concatenate((nn_in_28,np.ones((len(nn_in_28),1))*rho),axis=1)\n",
        "nn_out_28 = nn_out_28 \n",
        "\n",
        "rho = 35\n",
        "nn_in_35, nn_out_35 = prepare_dataset(rho)\n",
        "nn_in_35 = nn_in_35 \n",
        "nn_in_35 = np.concatenate((nn_in_35,np.ones((len(nn_in_35),1))*rho),axis=1)\n",
        "nn_out_35 = nn_out_35 \n",
        "\n",
        "\n",
        "nn_input = np.concatenate((nn_in_10,nn_in_28,nn_in_35),axis=0)\n",
        "nn_output = np.concatenate((nn_out_10, nn_out_28, nn_out_35), axis = 0)"
      ]
    },
    {
      "cell_type": "markdown",
      "metadata": {},
      "source": [
        "<br>\n",
        "<br>\n",
        "<br>\n",
        "<br>\n",
        "<br>\n",
        "<br>\n",
        "\n",
        "# Train the Neural Network "
      ]
    },
    {
      "cell_type": "code",
      "execution_count": null,
      "metadata": {
        "colab": {
          "base_uri": "https://localhost:8080/",
          "height": 1000
        },
        "id": "er2Or5f1mzUw",
        "outputId": "bf7c12f0-c6c1-4c71-df9e-b90ceebb0619"
      },
      "outputs": [],
      "source": [
        "deep_approx = tf.keras.models.Sequential()\n",
        "deep_approx.add(tf.keras.layers.Dense(10, input_dim=4, activation='relu'))\n",
        "deep_approx.add(tf.keras.layers.Dense(10, activation='relu'))\n",
        "deep_approx.add(tf.keras.layers.Dense(3, activation='linear'))\n",
        "\n",
        "decayRate = 1e-4\n",
        "nrSamplesPostValid = 2\n",
        "learningRate = 1e-3\n",
        "\n",
        "nEpochs = 1000\n",
        "batchSize = 128\n",
        "verbosity = 1\n",
        "\n",
        "adam = tf.keras.optimizers.Adam( learning_rate = learningRate, decay = decayRate )\n",
        "# Compile model\n",
        "deep_approx.compile(loss='mse', optimizer=adam)\n",
        "\n",
        "# Fit!\n",
        "callback = tf.keras.callbacks.EarlyStopping(monitor='loss', patience=15, restore_best_weights=True)\n",
        "History = deep_approx.fit(nn_input, nn_output, epochs=nEpochs )\n"
      ]
    },
    {
      "cell_type": "markdown",
      "metadata": {},
      "source": [
        "<br>\n",
        "<br>\n",
        "<br>\n",
        "<br>\n",
        "<br>\n",
        "<br>\n",
        "<br>\n",
        "\n",
        "# Test the Neural Network prediction on new dataset with different rho value "
      ]
    },
    {
      "cell_type": "markdown",
      "metadata": {},
      "source": [
        "### Solving for rho = 17 "
      ]
    },
    {
      "cell_type": "code",
      "execution_count": null,
      "metadata": {
        "id": "RqtJeTp7m3o_"
      },
      "outputs": [],
      "source": [
        "rho = 17\n",
        "np.random.seed(139)\n",
        "num_traj = 1\n",
        "\n",
        "nn_flow = np.zeros((num_traj, len(t), 4))\n",
        "nn_flow[:, 0, :-1] = -15 + 30 * 0.6 * np.ones((num_traj, 3))\n",
        "#nn_flow[:, 0, :-1] = np.random.random((num_traj, 3))*10\n",
        "\n",
        "nn_flow[:,:,3] = np.ones((num_traj,len(t)))*rho\n",
        "for jj, tval in enumerate(t[:-1]):\n",
        "  nn_flow[:, jj+1, :-1] = deep_approx.predict(nn_flow[:, jj, :])\n",
        "\n",
        "\n",
        "def lorenz_deriv(x_y_z, t0, sigma=sigma, beta=beta, rho=rho):\n",
        "  x, y, z = x_y_z\n",
        "  return [sigma * (y - x), x * (rho - z) - y, x * y - beta * z]\n",
        "\n",
        "nn_flow_simulation = nn_flow[:,:,0:3]\n",
        "x_t = np.array([integrate.odeint(lorenz_deriv, nn_flow_simulation[i, 0, :], t) for i in range(num_traj)])\n",
        "\n",
        "\n",
        "nn_flow_17 = nn_flow\n",
        "x_t_17 = x_t"
      ]
    },
    {
      "cell_type": "markdown",
      "metadata": {},
      "source": [
        "### Solving for rho = 40"
      ]
    },
    {
      "cell_type": "code",
      "execution_count": null,
      "metadata": {},
      "outputs": [],
      "source": [
        "rho = 40\n",
        "\n",
        "nn_flow = np.zeros((num_traj, len(t), 4))\n",
        "nn_flow[:, 0, :-1] = -15 + 30 * 0.6 * np.ones((num_traj, 3))\n",
        "#nn_flow[:, 0, :-1] = np.random.random((num_traj, 3))*10\n",
        "\n",
        "nn_flow[:,:,3] = np.ones((num_traj,len(t)))*rho\n",
        "for jj, tval in enumerate(t[:-1]):\n",
        "  nn_flow[:, jj+1, :-1] = deep_approx.predict(nn_flow[:, jj, :])\n",
        "\n",
        "\n",
        "def lorenz_deriv(x_y_z, t0, sigma=sigma, beta=beta, rho=rho):\n",
        "  x, y, z = x_y_z\n",
        "  return [sigma * (y - x), x * (rho - z) - y, x * y - beta * z]\n",
        "\n",
        "nn_flow_simulation = nn_flow[:,:,0:3]\n",
        "x_t = np.array([integrate.odeint(lorenz_deriv, nn_flow_simulation[i, 0, :], t) for i in range(num_traj)])\n",
        "\n",
        "\n",
        "nn_flow_40 = nn_flow\n",
        "x_t_40 = x_t"
      ]
    },
    {
      "cell_type": "code",
      "execution_count": null,
      "metadata": {
        "colab": {
          "base_uri": "https://localhost:8080/",
          "height": 683
        },
        "id": "14i-7P3Fnsf_",
        "outputId": "9c83b2ee-449f-4ef6-f2e8-ccb172558403"
      },
      "outputs": [],
      "source": [
        "fig = plt.figure(figsize=(10,10))\n",
        "ax = fig.add_subplot(111, projection='3d')\n",
        "\n",
        "x_17 = np.zeros((len(t),num_traj))\n",
        "y_17 = np.zeros((len(t),num_traj))\n",
        "z_17 = np.zeros((len(t),num_traj))\n",
        "\n",
        "x_40 = np.zeros((len(t),num_traj))\n",
        "y_40 = np.zeros((len(t),num_traj))\n",
        "z_40 = np.zeros((len(t),num_traj))\n",
        "\n",
        "xd_17 = np.zeros((len(t),num_traj))\n",
        "yd_17 = np.zeros((len(t),num_traj))\n",
        "zd_17 = np.zeros((len(t),num_traj))\n",
        "\n",
        "xd_40 = np.zeros((len(t),num_traj))\n",
        "yd_40 = np.zeros((len(t),num_traj))\n",
        "zd_40 = np.zeros((len(t),num_traj))\n",
        "\n",
        "\n",
        "for j in range(num_traj):\n",
        "    x_17[:,j], y_17[:,j], z_17[:,j] = x_t_17[j, :, :].T\n",
        "    xd_17[:,j], yd_17[:,j], zd_17[:,j] = nn_flow_17[j, :, :-1].T\n",
        "    x_40[:,j], y_40[:,j], z_40[:,j] = x_t_40[j, :, :].T\n",
        "    xd_40[:,j], yd_40[:,j], zd_40[:,j] = nn_flow_40[j, :, :-1].T\n",
        "\n",
        "    ax.plot(x_17[:,j], y_17[:,j], z_17[:,j],'b' ,linewidth=1)\n",
        "    ax.plot(xd_17[:,j], yd_17[:,j], zd_17[:,j], '--b', lw=1)\n",
        "    ax.plot(x_40[:,j], y_40[:,j], z_40[:,j],'r' ,linewidth=1)\n",
        "    ax.plot(xd_40[:,j], yd_40[:,j], zd_40[:,j], '--r', lw=1)\n",
        "    ax.set_xlabel('x')\n",
        "    ax.set_ylabel('y')\n",
        "    ax.set_zlabel('z')\n",
        "    ax.scatter(x_17[0], y_17[0], z_17[0], color='b')\n",
        "    ax.scatter(x_40[0], y_40[0], z_40[0], color='b')\n",
        "    ax.legend(['\\u03C1 = 17, ODE45 ','\\u03C1 = 17, NN ' ,'\\u03C1 = 40, ODE45', '\\u03C1 = 40, NN '], loc = 'upper right')\n",
        "             \n",
        "ax.view_init(18, -13)\n",
        "plt.show()"
      ]
    },
    {
      "cell_type": "code",
      "execution_count": null,
      "metadata": {},
      "outputs": [],
      "source": [
        "fig, ax = plt.subplots(3,1, figsize=(10,10))\n",
        "ax[0].set_title('Coordinate evolution over time for \\u03C1 = 17 and \\u03C1 = 40' )\n",
        "ax[0].plot(t,x_17,'b')\n",
        "ax[0].plot(t,xd_17, 'b--')\n",
        "ax[0].plot(t,x_40,'r')\n",
        "ax[0].plot(t,xd_40, 'r--')\n",
        "ax[0].grid() \n",
        "ax[0].legend(['\\u03C1 = 17, ODE45 ','\\u03C1 = 17, NN ' ,'\\u03C1 = 40, ODE45', '\\u03C1 = 40, NN '], loc = 'upper right')\n",
        "ax[0].set_ylabel('x coordinate')\n",
        "\n",
        "\n",
        "ax[1].plot(t,y_17,'b')\n",
        "ax[1].plot(t,yd_17, 'b--')\n",
        "ax[1].plot(t,y_40,'r')\n",
        "ax[1].plot(t,yd_40, 'r--')\n",
        "ax[1].grid()\n",
        "ax[1].set_ylabel('y coordinate')\n",
        "\n",
        "ax[2].plot(t,z_17,'b')\n",
        "ax[2].plot(t,zd_17, 'b--')\n",
        "ax[2].plot(t,z_40,'r')\n",
        "ax[2].plot(t,zd_40, 'r--')\n",
        "ax[2].grid()\n",
        "ax[2].set_xlabel('Time [s]')\n",
        "ax[2].set_ylabel('z coordinate')"
      ]
    },
    {
      "cell_type": "code",
      "execution_count": null,
      "metadata": {
        "colab": {
          "base_uri": "https://localhost:8080/",
          "height": 770
        },
        "id": "VOVOCMYBopVH",
        "outputId": "163ee649-79fa-4bbc-b306-390062514601"
      },
      "outputs": [],
      "source": [
        "\n",
        "\n",
        "x_mean = np.mean(x,axis=1)\n",
        "y_mean = np.mean(y,axis=1)\n",
        "z_mean = np.mean(z,axis=1)\n",
        "\n",
        "xd_upper = np.percentile(xd,0.5,axis=1)\n",
        "yd_upper = np.percentile(yd,0.5,axis=1)\n",
        "zd_upper = np.percentile(zd,0.5,axis=1)\n",
        "\n",
        "xd_lower = np.percentile(xd,95.5,axis=1)\n",
        "yd_lower = np.percentile(yd,95.5,axis=1)\n",
        "zd_lower = np.percentile(zd,95.5,axis=1)\n",
        "\n",
        "xd_mean = np.mean(xd,axis=1)\n",
        "yd_mean = np.mean(yd,axis=1)\n",
        "zd_mean = np.mean(zd,axis=1)\n",
        "\n",
        "fig, ax = plt.subplots(3,1)\n",
        "ax[0].set_title('Coordinate evolution over time for rho = %d' %rho)\n",
        "ax[0].plot(t,x_mean,'b')\n",
        "ax[0].plot(t,xd_mean, 'r--')\n",
        "ax[0].plot(t, xd_lower, 'g', alpha=0.6)\n",
        "ax[0].plot(t, xd_upper, 'g', alpha=0.6)\n",
        "ax[0].fill_between(t, xd_lower, xd_upper, color='g', alpha=0.3)\n",
        "ax[0].grid() \n",
        "ax[0].set_ylabel('x coordinate')\n",
        "ax[0].legend(['True','Predicted'])\n",
        "\n",
        "ax[1].plot(t,y_mean,'b')\n",
        "ax[1].plot(t,yd_mean, 'r--')\n",
        "ax[1].plot(t, yd_lower, 'g', alpha=0.6)\n",
        "ax[1].plot(t, yd_upper, 'g', alpha=0.6)\n",
        "ax[1].fill_between(t, yd_lower, yd_upper, color='g', alpha=0.3)\n",
        "ax[1].grid()\n",
        "ax[1].set_ylabel('y coordinate')\n",
        "\n",
        "ax[2].plot(t,z_mean,'b')\n",
        "ax[2].plot(t,zd_mean, 'r--')\n",
        "ax[2].plot(t, zd_lower, 'g', alpha=0.6)\n",
        "ax[2].plot(t, zd_upper, 'g', alpha=0.6)\n",
        "ax[2].fill_between(t, zd_lower, zd_upper, color='g', alpha=0.3)\n",
        "ax[2].grid()\n",
        "ax[2].set_xlabel('Time [s]')\n",
        "ax[2].set_ylabel('z coordinate')"
      ]
    },
    {
      "cell_type": "code",
      "execution_count": null,
      "metadata": {},
      "outputs": [],
      "source": []
    }
  ],
  "metadata": {
    "colab": {
      "collapsed_sections": [],
      "name": "Lorenz.ipynb",
      "provenance": []
    },
    "kernelspec": {
      "display_name": "Python 3.7.13 ('tf_10')",
      "language": "python",
      "name": "python3"
    },
    "language_info": {
      "codemirror_mode": {
        "name": "ipython",
        "version": 3
      },
      "file_extension": ".py",
      "mimetype": "text/x-python",
      "name": "python",
      "nbconvert_exporter": "python",
      "pygments_lexer": "ipython3",
      "version": "3.7.13"
    },
    "vscode": {
      "interpreter": {
        "hash": "ed873b22348962a430f331f9cb30603d8627257eb4630710088ff612f374bb44"
      }
    }
  },
  "nbformat": 4,
  "nbformat_minor": 0
}
