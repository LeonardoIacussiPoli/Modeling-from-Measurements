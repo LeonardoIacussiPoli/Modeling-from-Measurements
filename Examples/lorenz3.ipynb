{
 "cells": [
  {
   "cell_type": "code",
   "execution_count": 1,
   "metadata": {},
   "outputs": [
    {
     "ename": "ModuleNotFoundError",
     "evalue": "No module named 'keras'",
     "output_type": "error",
     "traceback": [
      "\u001b[0;31m---------------------------------------------------------------------------\u001b[0m",
      "\u001b[0;31mModuleNotFoundError\u001b[0m                       Traceback (most recent call last)",
      "\u001b[0;32m/var/folders/n4/wh0v02lx5gq25klx2lblt8x00000gn/T/ipykernel_95197/3896633156.py\u001b[0m in \u001b[0;36m<module>\u001b[0;34m\u001b[0m\n\u001b[1;32m      6\u001b[0m \u001b[0;34m\u001b[0m\u001b[0m\n\u001b[1;32m      7\u001b[0m \u001b[0;32mfrom\u001b[0m \u001b[0mtensorflow\u001b[0m \u001b[0;32mimport\u001b[0m \u001b[0mkeras\u001b[0m\u001b[0;34m\u001b[0m\u001b[0;34m\u001b[0m\u001b[0m\n\u001b[0;32m----> 8\u001b[0;31m \u001b[0;32mfrom\u001b[0m \u001b[0mkeras\u001b[0m \u001b[0;32mimport\u001b[0m \u001b[0mlayers\u001b[0m\u001b[0;34m\u001b[0m\u001b[0;34m\u001b[0m\u001b[0m\n\u001b[0m\u001b[1;32m      9\u001b[0m \u001b[0;32mfrom\u001b[0m \u001b[0msklearn\u001b[0m\u001b[0;34m.\u001b[0m\u001b[0mmodel_selection\u001b[0m \u001b[0;32mimport\u001b[0m \u001b[0mtrain_test_split\u001b[0m\u001b[0;34m\u001b[0m\u001b[0;34m\u001b[0m\u001b[0m\n\u001b[1;32m     10\u001b[0m \u001b[0;34m\u001b[0m\u001b[0m\n",
      "\u001b[0;31mModuleNotFoundError\u001b[0m: No module named 'keras'"
     ]
    }
   ],
   "source": [
    "import numpy as np\n",
    "import matplotlib.pyplot as plt\n",
    "from matplotlib import rcParams\n",
    "from scipy import integrate\n",
    "from mpl_toolkits.mplot3d import Axes3D\n",
    "\n",
    "from tensorflow import keras\n",
    "from keras import layers\n",
    "from sklearn.model_selection import train_test_split\n",
    "\n",
    "\n",
    "from keras.models import Sequential\n",
    "from keras.layers import Dense, Conv2D, Flatten, MaxPool2D\n",
    "from keras import optimizers\n",
    "from keras.layers import Activation\n",
    "from keras.utils.generic_utils import get_custom_objects\n",
    "from keras import backend as K\n",
    "\n",
    "\n",
    "rcParams.update({'font.size': 18})\n",
    "plt.rcParams['figure.figsize'] = [12, 12]"
   ]
  },
  {
   "cell_type": "code",
   "execution_count": null,
   "metadata": {},
   "outputs": [],
   "source": []
  },
  {
   "cell_type": "code",
   "execution_count": 2,
   "metadata": {},
   "outputs": [
    {
     "name": "stdout",
     "output_type": "stream",
     "text": [
      "(801,)\n"
     ]
    }
   ],
   "source": [
    "## Simulate the Lorenz System\n",
    "# 10,2, 35\n",
    "\n",
    "dt = 0.01\n",
    "T = 8\n",
    "t = np.arange(0, T+dt, dt)\n",
    "beta = 8/3\n",
    "sigma = 10\n",
    "rho = 28\n",
    "\n",
    "nn_input = np.zeros((100*(len(t)-1),3))\n",
    "nn_output = np.zeros_like(nn_input)\n",
    "\n",
    "def lorenz_deriv(x_y_z, t0, sigma=sigma, beta=beta, rho=rho):\n",
    "    x, y, z = x_y_z\n",
    "    return [sigma * (y - x), x * (rho - z) - y, x * y - beta * z]\n",
    "\n",
    "np.random.seed(123)\n",
    "x0 = -15 + 30 * np.random.random((100, 3))\n",
    "\n",
    "x_t = np.asarray([integrate.odeint(lorenz_deriv, x0_j, t)\n",
    "                  for x0_j in x0])\n",
    "\n",
    "for j in range(100):\n",
    "    nn_input[j*(len(t)-1):(j+1)*(len(t)-1),:] = x_t[j,:-1,:]\n",
    "    nn_output[j*(len(t)-1):(j+1)*(len(t)-1),:] = x_t[j,1:,:]\n",
    "    x, y, z = x_t[j,:,:].T\n"
   ]
  },
  {
   "cell_type": "code",
   "execution_count": null,
   "metadata": {},
   "outputs": [],
   "source": [
    "# Build model\n",
    "deep_approx = keras.models.Sequential()\n",
    "deep_approx.add(layers.Dense(10, input_dim=3, activation='sigmoid'))\n",
    "deep_approx.add(layers.Dense(10, activation='relu'))\n",
    "deep_approx.add(layers.Dense(3, activation='linear'))\n",
    "\n",
    "# Compile model\n",
    "deep_approx.compile(loss='mse', optimizer='adam')\n",
    "\n",
    "# Fit!\n",
    "History = deep_approx.fit(nn_input, nn_output, epochs=1000) \n",
    "                          #batch_size=50, \n",
    "#            validation_data=(nn_input, nn_output))\n",
    "#            callbacks=keras.callbacks.EarlyStopping(patience=20))"
   ]
  },
  {
   "cell_type": "code",
   "execution_count": null,
   "metadata": {},
   "outputs": [],
   "source": [
    "# from tqdm import tqdm\n",
    "np.random.seed(139)\n",
    "num_traj = 3\n",
    "\n",
    "nn_flow = np.zeros((num_traj, len(t), 3))\n",
    "nn_flow[:, 0, :] = -15 + 30 * np.random.random((num_traj, 3))\n",
    "for jj, tval in enumerate(t[:-1]):\n",
    "  nn_flow[:, jj+1, :] = deep_approx.predict(nn_flow[:, jj, :])\n"
   ]
  },
  {
   "cell_type": "code",
   "execution_count": null,
   "metadata": {},
   "outputs": [],
   "source": [
    "x_t = np.array([integrate.odeint(lorenz_deriv, nn_flow[i, 0, :], t) for i in range(num_traj)])\n",
    "\n",
    "fig = plt.figure()\n",
    "ax = fig.add_subplot(111, projection='3d')\n",
    "for j in range(num_traj):\n",
    "    x, y, z = x_t[j, :, :].T\n",
    "    xd, yd, zd = nn_flow[j, :, :].T\n",
    "    ax.plot(x, y, z, linewidth=1)\n",
    "    ax.plot(xd, yd, zd, '--', lw=1)\n",
    "    ax.set_xlabel('x')\n",
    "    ax.set_ylabel('y')\n",
    "    ax.set_zlabel('z')\n",
    "    ax.scatter(x[0], y[0], z[0], color='r')\n",
    "             \n",
    "ax.view_init(18, -13)\n",
    "plt.show()"
   ]
  },
  {
   "cell_type": "code",
   "execution_count": null,
   "metadata": {},
   "outputs": [],
   "source": [
    "## Neural Net\n",
    "import tensorflow as tf\n",
    "\n",
    "\n",
    "# Define activation functions\n",
    "def logsig(x):\n",
    "    return tf.divide(1, (1 + tf.exp(-x)) )\n",
    "\n",
    "def radbas(x):\n",
    "    return tf.exp(-x**2)\n",
    "\n",
    "def purelin(x):\n",
    "    return x\n",
    "\n",
    "#create model\n",
    "model = Sequential()\n",
    "\n",
    "#add model layers\n",
    "model.add(Dense(10, input_dim=3, activation=logsig))\n",
    "model.add(Dense(10, activation=radbas))\n",
    "model.add(Dense(3, activation=purelin))\n",
    "\n",
    "\n",
    "# sgd_optimizer = optimizers.SGD(momentum=0.9)\n",
    "model.compile(optimizer='adam', loss='mse')\n",
    "model.fit(nn_input, nn_output, epochs=30)"
   ]
  },
  {
   "cell_type": "code",
   "execution_count": null,
   "metadata": {},
   "outputs": [],
   "source": [
    "# Creating a model\n",
    "from keras.models import Sequential\n",
    "from keras.layers import Dense\n",
    "\n",
    "# Custom activation function\n",
    "from keras.layers import Activation\n",
    "from keras import backend as K\n",
    "from keras.utils.generic_utils import get_custom_objects\n",
    "\n",
    "\n",
    "def custom_activation(x):\n",
    "    return (K.sigmoid(x) * 5) - 1\n",
    "\n",
    "get_custom_objects().update({'custom_activation': Activation(custom_activation)})\n",
    "\n",
    "# Usage\n",
    "model = Sequential()\n",
    "model.add(Dense(32, input_dim=784))\n",
    "model.add(Activation(custom_activation, name='SpecialActivation'))\n",
    "print(model.summary())"
   ]
  },
  {
   "cell_type": "code",
   "execution_count": null,
   "metadata": {},
   "outputs": [],
   "source": []
  }
 ],
 "metadata": {
  "kernelspec": {
   "display_name": "Python 3.7.13 ('tf')",
   "language": "python",
   "name": "python3"
  },
  "language_info": {
   "codemirror_mode": {
    "name": "ipython",
    "version": 3
   },
   "file_extension": ".py",
   "mimetype": "text/x-python",
   "name": "python",
   "nbconvert_exporter": "python",
   "pygments_lexer": "ipython3",
   "version": "3.7.13"
  },
  "vscode": {
   "interpreter": {
    "hash": "692995a3867066e6f387b0eaaf572d90d68714f344629348525a640d809ef208"
   }
  }
 },
 "nbformat": 4,
 "nbformat_minor": 2
}
