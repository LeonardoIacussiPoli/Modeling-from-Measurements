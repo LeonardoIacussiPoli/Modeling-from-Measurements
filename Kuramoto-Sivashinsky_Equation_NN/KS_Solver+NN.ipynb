{
  "cells": [
    {
      "cell_type": "code",
      "execution_count": null,
      "metadata": {
        "id": "FMM-XKUwrNmL"
      },
      "outputs": [],
      "source": [
        "import numpy as np\n",
        "from numpy.random import default_rng\n",
        "from numpy.fft import fft, ifft, fftfreq\n",
        "import matplotlib.pyplot as plt\n",
        "from tensorflow import keras\n",
        "from sklearn.model_selection import train_test_split\n",
        "import tensorflow as tf\n",
        "from tqdm import tqdm\n",
        "from mpl_toolkits.axes_grid1 import make_axes_locatable"
      ]
    },
    {
      "cell_type": "code",
      "execution_count": null,
      "metadata": {
        "id": "VEVAJNoUkAGO"
      },
      "outputs": [],
      "source": [
        "def generate_data(rng_mnumber = 0):\n",
        "  N = 1000\n",
        "  x = (2*np.pi*np.arange(1,N+1)/N)\n",
        "  x = np.arange(0,N,0.01)\n",
        "  rng = default_rng(rng_mnumber)\n",
        "  u = rng.standard_normal(N)\n",
        "  #u = -np.sin(x) + 2*np.cos(2*x) + 3 * np.cos(3*x) - 4 * np.sin(4*x)\n",
        "  v = fft(u)\n",
        "  nu = 0.05\n",
        "\n",
        "  # spatial grid and initial conditions\n",
        "  h = 0.001\n",
        "  k = (np.r_[np.arange(0, N/2), np.array([0]), np.arange(-N/2+1, 0)]/16)\n",
        "  L = k**2 - nu*k**4\n",
        "  exp1 = np.exp(h*L)\n",
        "  exp2 = np.exp(h*L/2)\n",
        "  M = 16\n",
        "  r = np.exp(1j*np.pi*(np.arange(1, M+1)-0.5) / M)\n",
        "  LR = h*np.repeat([L], M, axis=0).T + np.repeat([r], N, axis=0)\n",
        "  Q = h*np.real(np.mean((np.exp(LR/2)-1)/LR, axis=1))\n",
        "  f1 = h*np.real(np.mean((-4-LR+np.exp(LR)*(4-3*LR+LR**2))/LR**3, axis=1))\n",
        "  f2 = h*np.real(np.mean((2+LR+np.exp(LR)*(-2+LR))/LR**3, axis=1))\n",
        "  f3 = h*np.real(np.mean((-4-3*LR-LR**2+np.exp(LR)*(4-LR))/LR**3, axis=1))\n",
        "\n",
        "  tmax = 2\n",
        "  step_max = round(tmax/h)\n",
        "  step_plt = int(tmax/(500*h))\n",
        "  g = -0.5j*k\n",
        "  # tt = np.zeros(step_max)\n",
        "  # uu = np.zeros((N,step_max))\n",
        "  uu = np.array([u])\n",
        "  tt = 0\n",
        "\n",
        "  for step in range(1, step_max):\n",
        "      t = step*h\n",
        "      Nv = g*fft(np.real(ifft(v))**2)\n",
        "      a = exp2*v + Q*Nv\n",
        "      Na = g*fft(np.real(ifft(a))**2)\n",
        "      b = exp2*v + Q*Na\n",
        "      Nb = g*fft(np.real(ifft(b))**2)\n",
        "      c = exp2*a + Q*(2*Nb - Nv)\n",
        "      Nc = g*fft(np.real(ifft(c))**2)\n",
        "      v = exp1*v + Nv*f1 + 2*(Na+Nb)*f2 + Nc*f3\n",
        "      if step % step_plt == 0:\n",
        "          u = np.real(ifft(v))\n",
        "          uu = np.append(uu, np.array([u]), axis=0)\n",
        "          tt = np.hstack((tt, t))\n",
        "          # uu[:,step] = u\n",
        "          # tt[step] = t\n",
        "\n",
        "      \n",
        "  time_len = -1\n",
        "  x_span = 200\n",
        "\n",
        "  uu = uu[0:time_len,int(uu.shape[1]-x_span):int(uu.shape[1]+x_span)]\n",
        "  x = x[0:int(x_span)]\n",
        "  tt = tt[0:time_len]\n",
        "\n",
        "  return uu , x, tt"
      ]
    },
    {
      "cell_type": "markdown",
      "metadata": {},
      "source": [
        "<br>\n",
        "<br>\n",
        "<br>\n",
        "<br>\n",
        "<br>\n",
        "\n",
        "# Dataset generation"
      ]
    },
    {
      "cell_type": "code",
      "execution_count": null,
      "metadata": {
        "id": "xJqGlWuBkaWl"
      },
      "outputs": [],
      "source": [
        "uu, x , tt = generate_data(rng_mnumber = 0)"
      ]
    },
    {
      "cell_type": "code",
      "execution_count": null,
      "metadata": {
        "colab": {
          "base_uri": "https://localhost:8080/",
          "height": 265
        },
        "id": "WKcP75G3rTur",
        "outputId": "9bddfad7-5a49-4634-a038-66eb94e19f4c"
      },
      "outputs": [],
      "source": [
        "fig, ax = plt.subplots(1,1)\n",
        "X, T = np.meshgrid(x, tt)\n",
        "im = ax.pcolormesh(X, T, uu, cmap='inferno', rasterized=True)\n",
        "fig.colorbar(im)\n",
        "plt.show()"
      ]
    },
    {
      "cell_type": "code",
      "execution_count": null,
      "metadata": {
        "colab": {
          "base_uri": "https://localhost:8080/",
          "height": 283
        },
        "id": "dUUGXqBBrWCr",
        "outputId": "428f1645-d3a1-47e3-eaf1-11e4d91e9644"
      },
      "outputs": [],
      "source": [
        "# it generates a number of data with different random initialization\n",
        "number_of_subdataset = 100\n",
        "\n",
        "uu_train_X = np.zeros(((uu[0:-1,:].shape[0])*number_of_subdataset,uu[0:-1,:].shape[1]))\n",
        "uu_train_Y = np.zeros(((uu[0:-1,:].shape[0])*number_of_subdataset,uu[0:-1,:].shape[1]))\n",
        "\n",
        "\n",
        "for ii in range(number_of_subdataset):\n",
        "  uu, x , tt = generate_data(rng_mnumber = ii)\n",
        "  uu_train_X[(uu[0:-1,:].shape[0])*ii:(uu[0:-1,:].shape[0])*ii+uu[0:-1,:].shape[0],:] = uu[0:-1,:]\n",
        "  uu_train_Y[(uu[0:-1,:].shape[0])*ii:(uu[0:-1,:].shape[0])*ii+uu[0:-1,:].shape[0],:] = uu[1:,:]\n"
      ]
    },
    {
      "cell_type": "markdown",
      "metadata": {},
      "source": [
        "<br>\n",
        "<br>\n",
        "<br>\n",
        "<br>\n",
        "<br>\n",
        "<br>\n",
        "\n",
        "# Training the Neural Network for KS Equation forecasting"
      ]
    },
    {
      "cell_type": "code",
      "execution_count": null,
      "metadata": {
        "colab": {
          "base_uri": "https://localhost:8080/"
        },
        "id": "CyFPjRO0rkCa",
        "outputId": "f87f6959-f6c3-46ac-94f6-81f1321133cf"
      },
      "outputs": [],
      "source": [
        "trainX = uu_train_X\n",
        "trainy = uu_train_Y\n",
        "\n",
        "regularizers = False\n",
        "\n",
        "if regularizers == True:\n",
        "  # Build model\n",
        "  deep_approx = tf.keras.models.Sequential()\n",
        "  deep_approx.add(tf.keras.layers.Dense(50, input_dim=uu_train_X.shape[1], activation='relu', kernel_regularizer=tf.keras.regularizers.l1(0.001)))\n",
        "  deep_approx.add(tf.keras.layers.Dense(50, activation='relu', kernel_regularizer=tf.keras.regularizers.l1(0.001)))\n",
        "  deep_approx.add(tf.keras.layers.Dense(uu_train_X.shape[1], activation='linear'))\n",
        "\n",
        "else:\n",
        "  # Build model\n",
        "  deep_approx = keras.models.Sequential()\n",
        "  deep_approx.add(tf.keras.layers.Dense(500, input_dim=uu_train_X.shape[1], activation='relu'))\n",
        "  deep_approx.add(tf.keras.layers.Dense(500, activation='relu'))\n",
        "  deep_approx.add(tf.keras.layers.Dense(uu_train_X.shape[1], activation='linear'))\n",
        "\n",
        "decayRate = 1e-4\n",
        "nrSamplesPostValid = 2\n",
        "learningRate = 3e-3\n",
        "nEpochs = 500\n",
        "batchSize = 128\n",
        "verbosity = 1\n",
        "\n",
        "# optimizer ex. adam or SGD\n",
        "adam = tf.keras.optimizers.Adam( learning_rate = learningRate, decay = decayRate )\n",
        "\n",
        "# Compile model\n",
        "deep_approx.compile(loss='mse', optimizer=adam)\n",
        "\n",
        "# Fit\n",
        "History = deep_approx.fit(trainX, trainy, epochs=nEpochs)"
      ]
    },
    {
      "cell_type": "markdown",
      "metadata": {},
      "source": [
        "<br>\n",
        "<br>\n",
        "<br>\n",
        "<br>\n",
        "<br>\n",
        "<br>\n",
        "\n",
        "# KS equation forecasting using Neural Network on new initial conditions"
      ]
    },
    {
      "cell_type": "code",
      "execution_count": null,
      "metadata": {
        "id": "VUr5ImuERGNf"
      },
      "outputs": [],
      "source": [
        "uu, x , tt = generate_data(rng_mnumber = 50)\n",
        "\n",
        "uu_NN = np.zeros_like(uu)\n",
        "uu_NN[0,:] = uu[0,:]\n",
        "\n",
        "for ii in tqdm(range(1,len(tt))):\n",
        "  uu_NN[ii,:] = deep_approx.predict(np.reshape(uu_NN[ii-1,:],(1,uu_NN.shape[1])))"
      ]
    },
    {
      "cell_type": "code",
      "execution_count": null,
      "metadata": {},
      "outputs": [],
      "source": [
        "fig, ax = plt.subplots(1,3, figsize=(20,5))\n",
        "\n",
        "ax[0].set_title('uu reference solution')\n",
        "im0 = ax[0].pcolormesh(X, T, uu, cmap='inferno', rasterized=True)\n",
        "ax[0].set_xlabel('x')\n",
        "ax[0].set_ylabel('Time [s]')\n",
        "divider = make_axes_locatable(ax[0])\n",
        "cax = divider.append_axes('right', size='2%', pad=0.05)\n",
        "fig.colorbar(im0, cax=cax, orientation='vertical')\n",
        "\n",
        "ax[1].set_title('uu predicted solution with NN')  \n",
        "im1 = ax[1].pcolormesh(X, T, uu_NN, cmap='inferno', rasterized=True)\n",
        "ax[1].set_xlabel('x')\n",
        "\n",
        "divider = make_axes_locatable(ax[1])\n",
        "cax = divider.append_axes('right', size='2%', pad=0.05)\n",
        "fig.colorbar(im1, cax=cax, orientation='vertical')\n",
        "\n",
        "ax[2].set_title('Error: abs(uu - uu_NN)')\n",
        "ax[2].set_xlabel('x')\n",
        "im2 = ax[2].pcolormesh(X, T, abs(uu-uu_NN), cmap='viridis', rasterized=True)\n",
        "\n",
        "divider = make_axes_locatable(ax[2])\n",
        "cax = divider.append_axes('right', size='2%', pad=0.05)\n",
        "fig.colorbar(im2, cax=cax, orientation='vertical')\n",
        "\n",
        "\n",
        "\n",
        "plt.show()\n"
      ]
    },
    {
      "cell_type": "code",
      "execution_count": null,
      "metadata": {
        "colab": {
          "base_uri": "https://localhost:8080/",
          "height": 534
        },
        "id": "HV9KxfSFSH1f",
        "outputId": "1e432cc0-a8f8-4c2d-c1d3-059bfb060b3a"
      },
      "outputs": [],
      "source": [
        "## find max and min error\n",
        "error_sum = np.sum(abs(uu-uu_NN)/np.max(uu),axis = 0)\n",
        "min_error_position = np.argmin(error_sum)\n",
        "max_error_position = np.argmax(error_sum)\n",
        "\n",
        "\n",
        "title_max = 'Time envelop of the equation in position x = '+str(max_error_position) \n",
        "title_min = 'Time envelop of the equation in position x = '+str(min_error_position) \n",
        "\n",
        "\n",
        "fig, ax = plt.subplots(1,2,figsize=(20,3))\n",
        "ax[0].set_title(title_min)\n",
        "ax[0].plot(tt,uu[:,min_error_position],'b')\n",
        "ax[0].plot(tt,uu_NN[:,min_error_position],'--r')\n",
        "ax[0].set_xlabel('Time')\n",
        "ax[0].legend(['uu[x_min , t]', 'uu_predicted[x_min , t]'])\n",
        "ax[0].grid()\n",
        "\n",
        "ax[1].set_title(title_max)\n",
        "ax[1].plot(tt,uu[:,max_error_position],'b')\n",
        "ax[1].plot(tt,uu_NN[:,max_error_position],'--r')\n",
        "ax[1].set_xlabel('Time')\n",
        "ax[1].legend(['uu[x_max , t]', 'uu_predicted[x_max , t]'])\n",
        "ax[1].grid()"
      ]
    },
    {
      "cell_type": "code",
      "execution_count": null,
      "metadata": {},
      "outputs": [],
      "source": []
    }
  ],
  "metadata": {
    "colab": {
      "collapsed_sections": [],
      "name": "KS_Solver+NN.ipynb",
      "provenance": []
    },
    "kernelspec": {
      "display_name": "Python 3.7.13 ('tf_10')",
      "language": "python",
      "name": "python3"
    },
    "language_info": {
      "codemirror_mode": {
        "name": "ipython",
        "version": 3
      },
      "file_extension": ".py",
      "mimetype": "text/x-python",
      "name": "python",
      "nbconvert_exporter": "python",
      "pygments_lexer": "ipython3",
      "version": "3.7.13"
    },
    "vscode": {
      "interpreter": {
        "hash": "ed873b22348962a430f331f9cb30603d8627257eb4630710088ff612f374bb44"
      }
    }
  },
  "nbformat": 4,
  "nbformat_minor": 0
}
