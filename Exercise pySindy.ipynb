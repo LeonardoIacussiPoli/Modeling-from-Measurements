{
 "cells": [
  {
   "cell_type": "code",
   "execution_count": 1,
   "metadata": {},
   "outputs": [
    {
     "data": {
      "text/plain": [
       "[<matplotlib.lines.Line2D at 0x7fb8d0ff7210>,\n",
       " <matplotlib.lines.Line2D at 0x7fb8d100b050>]"
      ]
     },
     "execution_count": 1,
     "metadata": {},
     "output_type": "execute_result"
    },
    {
     "data": {
      "image/png": "[encoded data removed]",
      "text/plain": [
       "<Figure size 432x288 with 1 Axes>"
      ]
     },
     "metadata": {
      "needs_background": "light"
     },
     "output_type": "display_data"
    }
   ],
   "source": [
    "import matplotlib.pyplot as plt\n",
    "from mpl_toolkits.mplot3d import Axes3D\n",
    "import numpy as np\n",
    "from scipy.integrate import solve_ivp\n",
    "from sklearn.metrics import mean_squared_error\n",
    "\n",
    "# Ignore integration and solver convergence warnings\n",
    "import warnings\n",
    "from scipy.integrate.odepack import ODEintWarning\n",
    "warnings.simplefilter(\"ignore\", category=UserWarning)\n",
    "warnings.simplefilter(\"ignore\", category=ODEintWarning)\n",
    "import pysindy as ps\n",
    "\n",
    "# Seed the random number generators for reproducibility\n",
    "np.random.seed(100)\n",
    "\n",
    "# integration keywords for solve_ivp, typically needed for chaotic systems\n",
    "integrator_keywords = {}\n",
    "integrator_keywords['rtol'] = 1e-10\n",
    "integrator_keywords['method'] = 'LSODA'\n",
    "integrator_keywords['atol'] = 1e-10\n",
    "\n",
    "feature_names = ['x', 'y']\n",
    "\n",
    "dt = 2\n",
    "t_train = np.arange(1845,1903+dt,dt) \n",
    "t_test = np.arange(1845,1845+6+dt,dt) \n",
    "dt = 1\n",
    "t_train = np.arange(0,30,dt)\n",
    "t_test = t_train\n",
    "\n",
    "SH = np.array([20,20,52,83,64,68,83,12,36,150,110,60,7,10,70,100,92,70,10,11,137,137,18,22,52,83,18,10,9,65])\n",
    "CL = np.array([32,50,12,10,13,36,15,12,6,6,65,70,40,9,20,34,45,40,15,15,60,80,26,18,37,50,35,12,12,25])\n",
    "\n",
    "X = np.zeros((len(SH),2))\n",
    "X[:,0] = SH\n",
    "X[:,1] = CL\n",
    "\n",
    "#t_train = np.arange(0,len(SH),1)\n",
    "#t_test = t_train\n",
    "\n",
    "x_0 = X[0,:]\n",
    "\n",
    "x_train = X\n",
    "x_test = X\n",
    "plt.figure()\n",
    "plt.plot(x_test)\n"
   ]
  },
  {
   "cell_type": "code",
   "execution_count": 3,
   "metadata": {},
   "outputs": [
    {
     "name": "stdout",
     "output_type": "stream",
     "text": [
      "(x)' = 4.044 sin(1 x) + -25.677 cos(1 x) + -5.383 sin(1 y) + -9.369 cos(1 y) + -11.541 sin(2 x) + -17.806 cos(2 x) + -5.562 sin(2 y) + 44.505 cos(2 y)\n",
      "(y)' = 4.815 sin(1 x) + -6.072 cos(1 x) + 11.816 sin(1 y) + -3.599 cos(1 y) + -1.237 sin(2 x) + -5.208 cos(2 x) + 5.242 sin(2 y) + 10.260 cos(2 y)\n"
     ]
    }
   ],
   "source": [
    "# Rerun the ensembling\n",
    "threshold = 0.003\n",
    "alpha = 0.05\n",
    "\n",
    "ensemble_optimizer = ps.STLSQ(threshold = threshold, alpha = alpha )\n",
    "model = ps.SINDy(feature_names=feature_names, optimizer=ensemble_optimizer, feature_library=ps.FourierLibrary(2,library_ensemble=False))\n",
    "model.fit(x_train[:,:], t=dt, ensemble=True, n_models=500, n_subset=27, quiet=True, n_candidates_to_drop=0)\n",
    "#model.fit(x_train[0:20,:], t=dt)\n",
    "\n",
    "model.print()\n"
   ]
  },
  {
   "cell_type": "code",
   "execution_count": null,
   "metadata": {},
   "outputs": [],
   "source": [
    "x_test_sims = model.simulate(x_0, t_test)"
   ]
  },
  {
   "cell_type": "code",
   "execution_count": null,
   "metadata": {},
   "outputs": [],
   "source": [
    "print(x_test_sims.shape)\n",
    "plt.plot(x_test_sims[:,0])\n",
    "plt.plot(SH)"
   ]
  },
  {
   "cell_type": "code",
   "execution_count": null,
   "metadata": {},
   "outputs": [],
   "source": [
    "ensemble_coefs = np.asarray(model.coef_list)\n",
    "mean_ensemble_coefs = np.mean(ensemble_coefs, axis=0)\n",
    "median_ensemble_coefs = np.median(ensemble_coefs, axis=0)"
   ]
  },
  {
   "cell_type": "code",
   "execution_count": null,
   "metadata": {},
   "outputs": [],
   "source": []
  },
  {
   "cell_type": "code",
   "execution_count": null,
   "metadata": {},
   "outputs": [],
   "source": [
    "# Predict the testing trajectory with all the models\n",
    "t_test = t_train\n",
    "\n",
    "x_test_sims = np.zeros((ensemble_coefs.shape[0],len(t_test), len(x_0)))\n",
    "for i in range(ensemble_coefs.shape[0]):\n",
    "    ensemble_optimizer.coef_ = ensemble_coefs[i, :, :]\n",
    "    x_test_sims[i,:,:] = model.simulate(x_0, t_test, integrator=\"odeint\")\n",
    "\n",
    "# Compute the 2.5 and 97.5 percentile trajectories\n",
    "bottom_line = np.percentile(x_test_sims, 2.5, axis=0)\n",
    "top_line = np.percentile(x_test_sims, 97.5, axis=0)\n",
    "x_test_sim_mean = np.mean(x_test_sims, axis=0)"
   ]
  },
  {
   "cell_type": "code",
   "execution_count": null,
   "metadata": {},
   "outputs": [],
   "source": []
  },
  {
   "cell_type": "code",
   "execution_count": null,
   "metadata": {},
   "outputs": [],
   "source": [
    "# Plot trajectory results\n",
    "plt.figure(figsize=(14, 5))\n",
    "for i in range(2):\n",
    "    plt.subplot(2, 1, i + 1)\n",
    "    plt.plot(t_test, x_test_sim_mean[:, i], 'b', label='Mean')\n",
    "    plt.plot(t_test, bottom_line[:, i], 'g', alpha=0.6, label='95th percentile')\n",
    "    plt.plot(t_test, top_line[:, i], 'g', alpha=0.6)\n",
    "    ax = plt.gca()\n",
    "    ax.fill_between(t_test, bottom_line[:, i], top_line[:, i], color='g', alpha=0.3)\n",
    "    plt.grid(True)\n",
    "    if i != 2:\n",
    "        ax.set_xticklabels([])\n",
    "    else:\n",
    "        plt.xlabel('t', fontsize=20)\n",
    "    plt.ylabel(feature_names[i], fontsize=20)\n",
    "    plt.xticks(fontsize=16)\n",
    "    plt.yticks(fontsize=16)\n",
    "    ax.yaxis.set_label_coords(-0.05, 0.75 - 0.1 * (i + 1))\n",
    "    if i == 0:\n",
    "        ax.legend(bbox_to_anchor=(1.01, 1.05), fontsize=18)"
   ]
  },
  {
   "cell_type": "code",
   "execution_count": null,
   "metadata": {},
   "outputs": [],
   "source": []
  }
 ],
 "metadata": {
  "kernelspec": {
   "display_name": "Python 3.7.13 ('tf_10')",
   "language": "python",
   "name": "python3"
  },
  "language_info": {
   "codemirror_mode": {
    "name": "ipython",
    "version": 3
   },
   "file_extension": ".py",
   "mimetype": "text/x-python",
   "name": "python",
   "nbconvert_exporter": "python",
   "pygments_lexer": "ipython3",
   "version": "3.7.13"
  },
  "orig_nbformat": 4,
  "vscode": {
   "interpreter": {
    "hash": "ed873b22348962a430f331f9cb30603d8627257eb4630710088ff612f374bb44"
   }
  }
 },
 "nbformat": 4,
 "nbformat_minor": 2
}
