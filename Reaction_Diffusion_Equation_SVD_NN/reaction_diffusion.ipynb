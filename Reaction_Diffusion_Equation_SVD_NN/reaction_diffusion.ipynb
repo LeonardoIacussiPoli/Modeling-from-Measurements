{
 "cells": [
  {
   "cell_type": "markdown",
   "metadata": {},
   "source": [
    "# Reaction diffusion exercise\n",
    "\n",
    "This notebook demonstrates PDE-FIND on a reaction diffusion system exhibiting sprial waves on a periodic domain.  We derive PDE's for each of two quantities, having dependancies on each other; $u$ and $v$.  \n",
    "\n",
    "\\begin{align*}\n",
    "u_t &= 0.1\\nabla^2 u + \\lambda(A)u - \\omega(A)v\\\\\n",
    "v_t &= 0.1\\nabla^2 v + \\omega(A)u + \\lambda(A)v\\\\\n",
    "A^2 &= u^2 + v^2,\\, \\omega(A) = -\\beta A^2, \\lambda(A) = 1-A^2\n",
    "\\end{align*}\n",
    "\n",
    "The Singular Value Decomposition is then applied to the result of the equation in order to find the best rank truncation able to well describe the equation drastically reducing the amount of data.\n",
    "\n",
    "Lastly a Neural Network has been trained in the lower dimensional space for reaction diffusion forecastin and then compared the prediction with actual Reaction Diffusion solution "
   ]
  },
  {
   "cell_type": "code",
   "execution_count": null,
   "metadata": {},
   "outputs": [],
   "source": [
    "%pylab inline\n",
    "pylab.rcParams['figure.figsize'] = (12, 8)\n",
    "import numpy as np\n",
    "from mpl_toolkits.mplot3d import Axes3D\n",
    "from PDE_FIND import *\n",
    "import scipy.io as sio\n",
    "import itertools\n",
    "import tensorflow as tf\n",
    "from matplotlib.figure import figaspect\n",
    "import matplotlib.pyplot as plt\n",
    "import plotly.express as px\n",
    "from optht import optht\n",
    "from mpl_toolkits.axes_grid1 import make_axes_locatable"
   ]
  },
  {
   "cell_type": "markdown",
   "metadata": {},
   "source": [
    "<br>\n",
    "<br>\n",
    "<br>\n",
    "<br>\n",
    "<br>\n",
    "<br>\n",
    "<br>\n",
    "\n",
    "## Load generated data from MATLAB"
   ]
  },
  {
   "cell_type": "code",
   "execution_count": null,
   "metadata": {},
   "outputs": [],
   "source": [
    "data = sio.loadmat('reaction_diffusion_big.mat')\n",
    "\n",
    "t = data['t'][:,0]\n",
    "x = data['x'][0,:]\n",
    "y = data['y'][0,:]\n",
    "U = data['u']\n",
    "V = data['v']"
   ]
  },
  {
   "cell_type": "code",
   "execution_count": null,
   "metadata": {},
   "outputs": [],
   "source": [
    "n = len(x)\n",
    "steps = len(t)\n",
    "dx = x[2]-x[1]\n",
    "dy = y[2]-y[1]\n",
    "dt = t[2]-t[1]\n",
    "\n",
    "time = 1\n",
    "\n",
    "xx, yy = np.meshgrid(np.arange(n)*dx,np.arange(n)*dy)\n",
    "\n",
    "fig, ax = plt.subplots(1,2, figsize=(12,5), gridspec_kw={'width_ratios': [1, 1]})\n",
    "ax[0].set_title('U solution at t = %d'%time)\n",
    "im0 = ax[0].pcolormesh(xx, yy, U[:,:,time], cmap='coolwarm', rasterized=True)\n",
    "\n",
    "\n",
    "ax[1].set_title('V solution at t = %d'%time)  \n",
    "im1 = ax[1].pcolormesh(xx, yy, V[:,:,time], cmap='coolwarm', rasterized=True)\n",
    "\n",
    "divider = make_axes_locatable(ax[1])\n",
    "cax = divider.append_axes('right', size='2%', pad=0.05)\n",
    "fig.colorbar(im1, cax=cax, orientation='vertical')\n",
    "\n",
    "plt.show()"
   ]
  },
  {
   "cell_type": "markdown",
   "metadata": {},
   "source": [
    "<br>\n",
    "<br>\n",
    "<br>\n",
    "<br>\n",
    "<br>\n",
    "<br>\n",
    "<br>\n",
    "<br>\n",
    "<br>\n",
    "\n",
    "# Reshape the matrix as single vector"
   ]
  },
  {
   "cell_type": "code",
   "execution_count": null,
   "metadata": {},
   "outputs": [],
   "source": [
    "U_reshaped = np.reshape(U,(len(x)*len(y),len(t)))\n",
    "V_reshaped = np.reshape(V,(len(x)*len(y),len(t)))\n",
    "\n",
    "reshaped_equation = np.concatenate((U_reshaped,V_reshaped),axis=0)\n",
    "print(reshaped_equation.shape)"
   ]
  },
  {
   "cell_type": "markdown",
   "metadata": {},
   "source": [
    "<br>\n",
    "<br>\n",
    "<br>\n",
    "<br>\n",
    "<br>\n",
    "<br>\n",
    "<br>\n",
    "<br>\n",
    "\n",
    "# Singular Value Decomposition\n"
   ]
  },
  {
   "cell_type": "code",
   "execution_count": null,
   "metadata": {},
   "outputs": [],
   "source": [
    "u, s, vh = np.linalg.svd(reshaped_equation, full_matrices=False)"
   ]
  },
  {
   "cell_type": "code",
   "execution_count": null,
   "metadata": {},
   "outputs": [],
   "source": [
    "confidence_level =0.5 # [%]\n",
    "\n",
    "# truncation rank\n",
    "r = x=np.array(np.where(s/max(s)*100> confidence_level))[0,-1]\n",
    "\n",
    "fig = px.line( title='Diagonal of the eigen values matrix \\u03A3')\n",
    "fig.add_scatter(x = np.arange(0,len(s)),y=s/max(s)*100, name = \"Number of significant dimensions\", marker =dict(size = 1.5, color='blue'),line = dict(width=1.5))\n",
    "fig.add_vline(x=np.array(np.where(s/max(s)*100> confidence_level))[0,-1],line_color=\"red\" , annotation_text=' '+str(np.array(np.where(s/max(s)*100> confidence_level))[0,-1])+' -> number of modes containing the '+str(100-confidence_level)+'% of the total system energy')\n",
    "fig.update_layout(xaxis_title=\"Dimensions\", yaxis_title=\"Normalized eigen values value\", width=1000)"
   ]
  },
  {
   "cell_type": "code",
   "execution_count": null,
   "metadata": {},
   "outputs": [],
   "source": [
    "vh.shape"
   ]
  },
  {
   "cell_type": "markdown",
   "metadata": {},
   "source": [
    "<br>\n",
    "<br>\n",
    "<br>\n",
    "\n",
    "## Plot reaction diffusion equations projected in the lower space"
   ]
  },
  {
   "cell_type": "code",
   "execution_count": null,
   "metadata": {},
   "outputs": [],
   "source": [
    "U_V_denoised = (u[:, range(r)] * s[range(r)]).dot(vh[range(r),:])\n",
    "U_denoised =  np.reshape(U_V_denoised[0:n*n,:],(n,n,steps))\n",
    "V_denoised = np.reshape(U_V_denoised[n*n:,:],(n,n,steps))"
   ]
  },
  {
   "cell_type": "code",
   "execution_count": null,
   "metadata": {},
   "outputs": [],
   "source": [
    "time = 200\n",
    "\n",
    "fig, ax = plt.subplots(1,3, figsize=(20,5))\n",
    "\n",
    "ax[0].set_title('U solution at t = %d'%time)\n",
    "im0 = ax[0].pcolormesh(xx, yy, U[:,:,time], cmap='coolwarm', rasterized=True)\n",
    "ax[0].set_xlabel('x')\n",
    "ax[0].set_ylabel('y')\n",
    "divider = make_axes_locatable(ax[0])\n",
    "cax = divider.append_axes('right', size='2%', pad=0.05)\n",
    "fig.colorbar(im0, cax=cax, orientation='vertical')\n",
    "\n",
    "ax[1].set_title('U Denoised solution at t = %d'%time)  \n",
    "im1 = ax[1].pcolormesh(xx, yy, U_denoised[:,:,time], cmap='coolwarm', rasterized=True)\n",
    "ax[1].set_xlabel('x')\n",
    "\n",
    "divider = make_axes_locatable(ax[1])\n",
    "cax = divider.append_axes('right', size='2%', pad=0.05)\n",
    "fig.colorbar(im1, cax=cax, orientation='vertical')\n",
    "\n",
    "ax[2].set_title('Error: abs(U - U_denoised) at t = %d'%time)\n",
    "ax[2].set_xlabel('x')\n",
    "im2 = ax[2].pcolormesh(xx, yy, abs(U[:,:,time]-U_denoised[:,:,time]), cmap='viridis', rasterized=True)\n",
    "\n",
    "divider = make_axes_locatable(ax[2])\n",
    "cax = divider.append_axes('right', size='2%', pad=0.05)\n",
    "fig.colorbar(im2, cax=cax, orientation='vertical')\n",
    "\n",
    "\n",
    "\n",
    "plt.show()\n"
   ]
  },
  {
   "cell_type": "code",
   "execution_count": null,
   "metadata": {},
   "outputs": [],
   "source": [
    "vh_denoised = (vh[range(r),:]).T\n",
    "print(vh_denoised.shape)"
   ]
  },
  {
   "cell_type": "code",
   "execution_count": null,
   "metadata": {},
   "outputs": [],
   "source": [
    "train_X =  vh_denoised[0:-1,:]\n",
    "train_Y =  vh_denoised[1:,:]"
   ]
  },
  {
   "cell_type": "code",
   "execution_count": null,
   "metadata": {},
   "outputs": [],
   "source": [
    "\n",
    "\n",
    "train_X =  vh_denoised[0:-1,:]\n",
    "train_Y =  vh_denoised[1:,:]\n",
    "\n",
    "deep_approx = tf.keras.models.Sequential()\n",
    "deep_approx.add(tf.keras.layers.Dense(1000, input_dim=train_X.shape[1], activation='relu'))\n",
    "deep_approx.add(tf.keras.layers.Dense(1000, activation='relu'))\n",
    "deep_approx.add(tf.keras.layers.Dense(train_Y.shape[1], activation='linear'))\n",
    "\n",
    "decayRate = 1e-4\n",
    "nrSamplesPostValid = 2\n",
    "learningRate = 1e-4\n",
    "nEpochs = 200\n",
    "batchSize = 128\n",
    "verbosity = 1\n",
    "\n",
    "# Compile model\n",
    "adam = tf.keras.optimizers.Adam( learning_rate = learningRate, decay = decayRate )\n",
    "deep_approx.compile(loss='mse', optimizer=adam)\n",
    "\n",
    "# fit the model\n",
    "History = deep_approx.fit(train_X, train_Y, epochs=nEpochs )\n"
   ]
  },
  {
   "cell_type": "markdown",
   "metadata": {},
   "source": [
    "<br>\n",
    "<br>\n",
    "<br>\n",
    "\n",
    "## Predict the equation behaviour "
   ]
  },
  {
   "cell_type": "code",
   "execution_count": null,
   "metadata": {},
   "outputs": [],
   "source": [
    "vh_predicted = np.zeros((len(t)-1,len(vh_denoised[0,:])))\n",
    "vh_predicted[0,:] = vh_denoised[0,:]\n",
    "for ii in range(1,len(t)-1):\n",
    "    vh_predicted[ii,:] = deep_approx.predict(np.reshape(vh_predicted[ii-1,:],(1,vh_predicted.shape[1])))\n",
    "\n",
    "vh_predicted = vh_predicted.T"
   ]
  },
  {
   "cell_type": "markdown",
   "metadata": {},
   "source": [
    "## Reshape the equation for coming back to the initial dimensions"
   ]
  },
  {
   "cell_type": "code",
   "execution_count": null,
   "metadata": {},
   "outputs": [],
   "source": [
    "U_V_predicted = (u[:, range(r)] * s[range(r)]).dot(vh_predicted[range(r),:])\n",
    "U_predicted =  np.reshape(U_V_predicted[0:n*n,:],(n,n,steps-1))\n",
    "V_predicted = np.reshape(U_V_predicted[n*n:,:],(n,n,steps-1))"
   ]
  },
  {
   "cell_type": "code",
   "execution_count": null,
   "metadata": {},
   "outputs": [],
   "source": [
    "time = 199\n",
    "\n",
    "fig, ax = plt.subplots(1,3, figsize=(20,5))\n",
    "\n",
    "ax[0].set_title('U solution at t = %d'%time)\n",
    "im0 = ax[0].pcolormesh(xx, yy, U[:,:,time], cmap='coolwarm', rasterized=True)\n",
    "ax[0].set_xlabel('x')\n",
    "ax[0].set_ylabel('y')\n",
    "divider = make_axes_locatable(ax[0])\n",
    "cax = divider.append_axes('right', size='2%', pad=0.05)\n",
    "fig.colorbar(im0, cax=cax, orientation='vertical')\n",
    "\n",
    "ax[1].set_title('U_Predicted solution at t = %d'%time)  \n",
    "im1 = ax[1].pcolormesh(xx, yy, U_predicted[:,:,time], cmap='coolwarm', rasterized=True)\n",
    "ax[1].set_xlabel('x')\n",
    "divider = make_axes_locatable(ax[1])\n",
    "cax = divider.append_axes('right', size='2%', pad=0.05)\n",
    "fig.colorbar(im1, cax=cax, orientation='vertical')\n",
    "\n",
    "ax[2].set_title('Error: abs(U - U_Predicted) at t = %d'%time)\n",
    "im2 = ax[2].pcolormesh(xx, yy, abs(U[:,:,time]-U_predicted[:,:,time]), cmap='viridis', rasterized=True)\n",
    "ax[2].set_xlabel('x')\n",
    "divider = make_axes_locatable(ax[2])\n",
    "cax = divider.append_axes('right', size='2%', pad=0.05)\n",
    "fig.colorbar(im2, cax=cax, orientation='vertical')\n",
    "\n",
    "\n",
    "\n",
    "plt.show()"
   ]
  },
  {
   "cell_type": "code",
   "execution_count": null,
   "metadata": {},
   "outputs": [],
   "source": [
    "# find max sum(err)\n",
    "\n",
    "sum_err = np.sum(abs(U[:,:,:200]-U_predicted[:,:,:]),axis=2)\n",
    "\n",
    "for ii in range(sum_err.shape[0]):\n",
    "    for jj in range(sum_err.shape[1]):\n",
    "        if(sum_err[ii,jj]<0.01):\n",
    "            sum_err[ii,jj] = 10\n",
    "\n",
    "\n",
    "min_element = np.min(sum_err)\n",
    "print(min_element)\n",
    "\n",
    "max_element = np.max(sum_err)\n",
    "print(max_element)\n",
    "\n",
    "ij_min = np.where(sum_err == min_element)\n",
    "ij_min = tuple([i.item() for i in ij_min])\n",
    "\n",
    "ij_max = np.where(sum_err == max_element)\n",
    "ij_max = tuple([i.item() for i in ij_max])"
   ]
  },
  {
   "cell_type": "code",
   "execution_count": null,
   "metadata": {},
   "outputs": [],
   "source": [
    "\n",
    "x_position_min = ij_min[0]\n",
    "y_position_min = ij_min[1]\n",
    "title_min = 'Time envelop of the equation in position x = '+str(x_position_min) +' y = ' + str(y_position_min)\n",
    "\n",
    "x_position_max = ij_max[0]\n",
    "y_position_max = ij_max[1]\n",
    "title_max = 'Time envelop of the equation in position x = '+str(x_position_max) +' y = ' + str(y_position_max)\n",
    "\n",
    "\n",
    "fig, ax = plt.subplots(1,2,figsize=(20,3))\n",
    "ax[0].set_title(title_min)\n",
    "ax[0].plot(U[x_position_min,y_position_min,:],'b')\n",
    "ax[0].plot(U_predicted[x_position_min,y_position_min,:],'--r')\n",
    "ax[0].legend(['Real', 'Predicted'])\n",
    "ax[0].set_xlabel('Time steps')\n",
    "ax[0].set_ylabel('U [x_min, y_min]')\n",
    "ax[0].grid()\n",
    "\n",
    "ax[1].set_title(title_max)\n",
    "ax[1].plot(U[x_position_max,y_position_max,:],'b')\n",
    "ax[1].plot(U_predicted[x_position_max,y_position_max,:],'--r')\n",
    "ax[1].legend(['Solved using ', 'Predicted with NN'])\n",
    "ax[1].set_ylabel('U  [x_max, y_max]')\n",
    "ax[1].set_xlabel('Time steps')\n",
    "ax[1].grid()\n"
   ]
  }
 ],
 "metadata": {
  "kernelspec": {
   "display_name": "Python 3.7.13 ('tf_10')",
   "language": "python",
   "name": "python3"
  },
  "language_info": {
   "codemirror_mode": {
    "name": "ipython",
    "version": 3
   },
   "file_extension": ".py",
   "mimetype": "text/x-python",
   "name": "python",
   "nbconvert_exporter": "python",
   "pygments_lexer": "ipython3",
   "version": "3.7.13"
  },
  "orig_nbformat": 4,
  "vscode": {
   "interpreter": {
    "hash": "ed873b22348962a430f331f9cb30603d8627257eb4630710088ff612f374bb44"
   }
  }
 },
 "nbformat": 4,
 "nbformat_minor": 2
}
